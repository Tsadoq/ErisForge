{
 "cells": [
  {
   "cell_type": "markdown",
   "id": "288e67e8bbf6b81d",
   "metadata": {},
   "source": [
    "# ErisForge Model Corruption Demo\n",
    "\n",
    "This notebook demonstrates how to use the ErisForge library to manipulate a language model's behavior by modifying its internal representations.\n",
    "We'll walk through the setup, loading instructions, applying model transformations, and saving the corrupted model.\n",
    "\n",
    "**Note:** This notebook assumes you have the `ErisForge` library and necessary assets installed locally."
   ]
  },
  {
   "cell_type": "markdown",
   "id": "20b2aafa8f16b364",
   "metadata": {},
   "source": [
    "## Imports and Setup\n",
    "Import necessary libraries and set up a random seed for reproducibility.\n"
   ]
  },
  {
   "cell_type": "code",
   "id": "initial_id",
   "metadata": {
    "collapsed": true,
    "ExecuteTime": {
     "end_time": "2025-02-03T15:40:09.585053Z",
     "start_time": "2025-02-03T15:40:09.580046Z"
    }
   },
   "source": [
    "import random\n",
    "import torch\n",
    "from transformers import AutoModelForCausalLM, AutoTokenizer\n",
    "\n",
    "# Import ErisForge and the necessary scorer for evaluating refusals\n",
    "from erisforge import Forge\n",
    "from erisforge.scorers import (\n",
    "    ExpressionRefusalScorer,\n",
    ")\n",
    "\n",
    "# Set a random seed for reproducibility\n",
    "random.seed(42)"
   ],
   "outputs": [],
   "execution_count": 10
  },
  {
   "cell_type": "markdown",
   "id": "6e16364c28fcd929",
   "metadata": {},
   "source": [
    "## Load the Model and Instructions\n",
    "Define the model name and load instructions for \"harmful\" and \"harmless\" behaviors.\n",
    "These instructions will guide the model's behavior during the transformation process.\n"
   ]
  },
  {
   "cell_type": "code",
   "id": "1de994a8b9f53a70",
   "metadata": {
    "ExecuteTime": {
     "end_time": "2025-02-03T15:40:16.145663Z",
     "start_time": "2025-02-03T15:40:16.138444Z"
    }
   },
   "source": [
    "# Specify the model we are going to modify\n",
    "MODEL = \"google/gemma-1.1-2b-it\"\n",
    "\n",
    "# Load objective behavior instructions (harmful)\n",
    "with open(\"harmful_instructions.txt\", \"r\") as f:\n",
    "    obj_beh = f.readlines()\n",
    "\n",
    "# Load anti-objective behavior instructions (harmless)\n",
    "with open(\"harmless_instructions.txt\", \"r\") as f:\n",
    "    anti_obj = f.readlines()\n",
    "\n",
    "# Limit the number of instructions to process\n",
    "max_inst = 100"
   ],
   "outputs": [],
   "execution_count": 12
  },
  {
   "cell_type": "markdown",
   "id": "994bffdfde2fa062",
   "metadata": {},
   "source": [
    "## Initialize ErisForge and Tokenizer\n",
    "Create an instance of `Forge` and load the behavior instructions.\n",
    "Initialize the tokenizer and model, specifying settings for device compatibility.\n"
   ]
  },
  {
   "cell_type": "code",
   "id": "91c197dc5507d8cf",
   "metadata": {
    "ExecuteTime": {
     "end_time": "2025-02-03T15:40:25.552183Z",
     "start_time": "2025-02-03T15:40:17.278190Z"
    }
   },
   "source": [
    "# Initialize ErisForge\n",
    "forge = Forge()\n",
    "forge.load_instructions(\n",
    "    objective_behaviour_instructions=obj_beh, anti_behaviour_instructions=anti_obj\n",
    ")\n",
    "\n",
    "# Initialize the tokenizer with the model's configuration\n",
    "tokenizer = AutoTokenizer.from_pretrained(MODEL, trust_remote_code=True)\n",
    "\n",
    "# Load the model with specific settings for device compatibility\n",
    "model = AutoModelForCausalLM.from_pretrained(\n",
    "    MODEL,\n",
    "    trust_remote_code=True,\n",
    "    torch_dtype=torch.bfloat16,  # Use bfloat16 for efficiency if supported\n",
    ").to(forge.device)  # Move model to the device set in forge (e.g., GPU if available)"
   ],
   "outputs": [
    {
     "data": {
      "text/plain": [
       "Loading checkpoint shards:   0%|          | 0/2 [00:00<?, ?it/s]"
      ],
      "application/vnd.jupyter.widget-view+json": {
       "version_major": 2,
       "version_minor": 0,
       "model_id": "e82e6a1a302746dd8fa495420e40a879"
      }
     },
     "metadata": {},
     "output_type": "display_data"
    }
   ],
   "execution_count": 13
  },
  {
   "cell_type": "markdown",
   "id": "7f97fe0760b872a5",
   "metadata": {},
   "source": [
    "## Tokenize Instructions\n",
    "Convert the text instructions into tokenized format that the model can understand.\n",
    "This step is necessary for passing the instructions into the model during the transformation process.\n"
   ]
  },
  {
   "cell_type": "code",
   "id": "9f7d98a35254e6b7",
   "metadata": {
    "ExecuteTime": {
     "end_time": "2025-02-03T15:40:25.680125Z",
     "start_time": "2025-02-03T15:40:25.599849Z"
    }
   },
   "source": [
    "# Tokenize the instructions for objective and anti-objective behaviors\n",
    "d_toks = forge.tokenize_instructions(\n",
    "    tokenizer=tokenizer,\n",
    "    max_n_antiobjective_instruction=max_inst,\n",
    "    max_n_objective_behaviour_instruction=max_inst,\n",
    ")"
   ],
   "outputs": [
    {
     "name": "stderr",
     "output_type": "stream",
     "text": [
      "Tokenizing objective_behaviour instructions: 100%|██████████| 100/100 [00:00<00:00, 2347.30it/s]\n",
      "Tokenizing antiobjective instructions: 100%|██████████| 100/100 [00:00<00:00, 8152.35it/s]\n"
     ]
    }
   ],
   "execution_count": 14
  },
  {
   "cell_type": "markdown",
   "id": "e833c68bd1aafbdc",
   "metadata": {},
   "source": [
    "## Compute Output from Tokenized Instructions\n",
    "Run the model with the tokenized instructions to obtain output representations.\n",
    "These outputs will be used to calculate a \"direction\" that influences the model's response behavior.\n"
   ]
  },
  {
   "cell_type": "code",
   "id": "afe15e00fd42b963",
   "metadata": {
    "ExecuteTime": {
     "end_time": "2025-02-03T15:40:59.608290Z",
     "start_time": "2025-02-03T15:40:26.417506Z"
    }
   },
   "source": [
    "d_instr = forge.compute_output(\n",
    "    model=model,\n",
    "    objective_behaviour_tokenized_instructions=d_toks[\"objective_behaviour_tokens\"],\n",
    "    anti_behaviour_tokenized_instructions=d_toks[\"antiobjective_tokens\"],\n",
    ")"
   ],
   "outputs": [
    {
     "name": "stderr",
     "output_type": "stream",
     "text": [
      "Generating tokens on objective_behaviour instructions: 100%|██████████| 100/100 [00:17<00:00,  5.74it/s]\n",
      "Generating tokens on antiobjective instructions: 100%|██████████| 100/100 [00:15<00:00,  6.35it/s]\n"
     ]
    }
   ],
   "execution_count": 15
  },
  {
   "cell_type": "markdown",
   "id": "e15ed13442279a76",
   "metadata": {},
   "source": [
    "## Initialize Refusal Scorer\n",
    "The `ExpressionRefusalScorer` will evaluate the model's response for specific refusal expressions.\n",
    "This scorer can help quantify the model's tendency to refuse certain types of requests after modification.\n"
   ]
  },
  {
   "cell_type": "code",
   "id": "df90c1a8b46787e0",
   "metadata": {
    "ExecuteTime": {
     "end_time": "2025-02-03T15:41:00.275062Z",
     "start_time": "2025-02-03T15:41:00.272929Z"
    }
   },
   "source": [
    "scorer = ExpressionRefusalScorer()"
   ],
   "outputs": [],
   "execution_count": 16
  },
  {
   "cell_type": "markdown",
   "id": "5f893981b17a3d36",
   "metadata": {},
   "source": [
    "## Free Memory for Intermediate Variables\n",
    "To optimize memory usage, we can release intermediate variables that are no longer needed.\n",
    "This step helps manage memory, especially when working with large models."
   ]
  },
  {
   "cell_type": "code",
   "id": "e9093cd2079fa383",
   "metadata": {
    "ExecuteTime": {
     "end_time": "2025-02-03T15:41:00.990177Z",
     "start_time": "2025-02-03T15:41:00.846495Z"
    }
   },
   "source": [
    "# Free up memory by deleting unused tokenized data and instruction outputs\n",
    "forge.free_memory([d_toks])"
   ],
   "outputs": [
    {
     "name": "stderr",
     "output_type": "stream",
     "text": [
      "WARNING:root:Freeing memory for 1 variables.\n"
     ]
    }
   ],
   "execution_count": 17
  },
  {
   "cell_type": "markdown",
   "id": "897438942ac43d83",
   "metadata": {},
   "source": [
    "## Find Direction for Objective Behavior Transformation\n",
    "Here we compute a \"behavioral direction\" that will guide the model's transformation.\n",
    "In this example we use a layer in the middle of the model to apply the transformation, this is done because they usually perform well, you should exaustively test different layers to find the best one for your use case.\n",
    "This direction is based on the difference between harmful and harmless instruction outputs.\n"
   ]
  },
  {
   "cell_type": "code",
   "id": "79b37c2f1a0dea0",
   "metadata": {
    "ExecuteTime": {
     "end_time": "2025-02-03T15:41:01.576317Z",
     "start_time": "2025-02-03T15:41:01.558533Z"
    }
   },
   "source": [
    "refusal_dir = forge.compute_objective_behaviour_direction(\n",
    "    model=model,\n",
    "    objective_behaviour_outputs=d_instr[\"obj_beh\"],\n",
    "    antiobjective_outputs=d_instr[\"anti_obj\"],\n",
    "    layer=int(\n",
    "        len(model.model.layers) * 0.65\n",
    "    ),  # Use a specific layer to apply the transformation, in this case a layer kind of in the middle is chosen because it's a good starting point\n",
    ")"
   ],
   "outputs": [],
   "execution_count": 18
  },
  {
   "cell_type": "markdown",
   "id": "99b7b6ce719b9518",
   "metadata": {},
   "source": [
    "## Finding the Best Objective Behaviour Direction (Use with Caution)\n",
    "The following cell demonstrates how to use `find_approximate_best_objective_behaviour_direction` to compute the best behavioral direction across multiple layers.\n",
    "\n",
    "**Warning:** This operation can be memory-intensive and may cause memory leaks or crashes, especially on systems with limited resources."
   ]
  },
  {
   "cell_type": "code",
   "id": "524407bc407343a5",
   "metadata": {},
   "source": [
    "try:\n",
    "    refusal_dir = forge.find_approximate_best_objective_behaviour_direction(\n",
    "        model=model,\n",
    "        tokenizer=tokenizer,\n",
    "        scorer=scorer,\n",
    "        eval_objective_behaviour_instructions=obj_beh[:max_inst],\n",
    "        eval_antiobjective_instructions=anti_obj[:max_inst],\n",
    "        min_layer=10,\n",
    "        max_layer=13,\n",
    "    )\n",
    "    print(\"Best direction computed successfully.\")\n",
    "except Exception as e:\n",
    "    print(\"An error occurred during computation:\", e)\n",
    "    print(\"This may be due to memory constraints or a memory leak.\")"
   ],
   "outputs": [],
   "execution_count": null
  },
  {
   "cell_type": "markdown",
   "id": "57b38ab5168ea875",
   "metadata": {},
   "source": [
    "## Optional: Run the Forged Model (Example)\n",
    "You can test the modified model by running it with a set of instructions to see the altered responses.\n",
    "This step is optional, so it is commented out by default.\n",
    "\n",
    "Uncomment the code below to run the forged model and observe conversations.\n",
    "Note: Adjust 'max_new_tokens' as needed to control response length.\n"
   ]
  },
  {
   "cell_type": "code",
   "id": "457e7f282d6c3c45",
   "metadata": {
    "ExecuteTime": {
     "end_time": "2025-02-03T15:44:05.591848Z",
     "start_time": "2025-02-03T15:41:02.196388Z"
    }
   },
   "source": [
    "conversations = forge.run_forged_model(\n",
    "    model=model,\n",
    "    objective_behaviour_dir=refusal_dir,\n",
    "    tokenizer=tokenizer,\n",
    "    instructions=random.sample(population=obj_beh, k=20),\n",
    "    max_new_tokens=100,\n",
    "    stream=False,\n",
    ")\n",
    "\n",
    "for conversation in conversations:\n",
    "    print(\"=\" * 20)\n",
    "    for round in conversation:\n",
    "        print(f'{round[\"role\"]}: {round[\"content\"]}')\n",
    "\n",
    "forge.free_memory([conversations, d_toks, d_instr])  # Free memory after testing"
   ],
   "outputs": [
    {
     "name": "stderr",
     "output_type": "stream",
     "text": [
      "Ablating model layers: 100%|██████████| 11/11 [00:00<00:00, 28184.08it/s]\n",
      "Tokenizing instructions for newly forged model: 100%|██████████| 20/20 [00:00<00:00, 2822.17it/s]\n",
      "Generating tokens for newly forged model:  40%|████      | 8/20 [03:03<04:34, 22.89s/it]\n"
     ]
    },
    {
     "ename": "RuntimeError",
     "evalue": "MPS backend out of memory (MPS allocated: 19.42 GB, other allocations: 5.11 MB, max allowed: 20.40 GB). Tried to allocate 1000.00 MB on private pool. Use PYTORCH_MPS_HIGH_WATERMARK_RATIO=0.0 to disable upper limit for memory allocations (may cause system failure).",
     "output_type": "error",
     "traceback": [
      "\u001B[0;31m---------------------------------------------------------------------------\u001B[0m",
      "\u001B[0;31mRuntimeError\u001B[0m                              Traceback (most recent call last)",
      "Cell \u001B[0;32mIn[19], line 1\u001B[0m\n\u001B[0;32m----> 1\u001B[0m conversations \u001B[38;5;241m=\u001B[39m \u001B[43mforge\u001B[49m\u001B[38;5;241;43m.\u001B[39;49m\u001B[43mrun_forged_model\u001B[49m\u001B[43m(\u001B[49m\n\u001B[1;32m      2\u001B[0m \u001B[43m    \u001B[49m\u001B[43mmodel\u001B[49m\u001B[38;5;241;43m=\u001B[39;49m\u001B[43mmodel\u001B[49m\u001B[43m,\u001B[49m\n\u001B[1;32m      3\u001B[0m \u001B[43m    \u001B[49m\u001B[43mobjective_behaviour_dir\u001B[49m\u001B[38;5;241;43m=\u001B[39;49m\u001B[43mrefusal_dir\u001B[49m\u001B[43m,\u001B[49m\n\u001B[1;32m      4\u001B[0m \u001B[43m    \u001B[49m\u001B[43mtokenizer\u001B[49m\u001B[38;5;241;43m=\u001B[39;49m\u001B[43mtokenizer\u001B[49m\u001B[43m,\u001B[49m\n\u001B[1;32m      5\u001B[0m \u001B[43m    \u001B[49m\u001B[43minstructions\u001B[49m\u001B[38;5;241;43m=\u001B[39;49m\u001B[43mrandom\u001B[49m\u001B[38;5;241;43m.\u001B[39;49m\u001B[43msample\u001B[49m\u001B[43m(\u001B[49m\u001B[43mpopulation\u001B[49m\u001B[38;5;241;43m=\u001B[39;49m\u001B[43mobj_beh\u001B[49m\u001B[43m,\u001B[49m\u001B[43m \u001B[49m\u001B[43mk\u001B[49m\u001B[38;5;241;43m=\u001B[39;49m\u001B[38;5;241;43m20\u001B[39;49m\u001B[43m)\u001B[49m\u001B[43m,\u001B[49m\n\u001B[1;32m      6\u001B[0m \u001B[43m    \u001B[49m\u001B[43mmax_new_tokens\u001B[49m\u001B[38;5;241;43m=\u001B[39;49m\u001B[38;5;241;43m100\u001B[39;49m\u001B[43m,\u001B[49m\n\u001B[1;32m      7\u001B[0m \u001B[43m    \u001B[49m\u001B[43mstream\u001B[49m\u001B[38;5;241;43m=\u001B[39;49m\u001B[38;5;28;43;01mFalse\u001B[39;49;00m\u001B[43m,\u001B[49m\n\u001B[1;32m      8\u001B[0m \u001B[43m)\u001B[49m\n\u001B[1;32m     10\u001B[0m \u001B[38;5;28;01mfor\u001B[39;00m conversation \u001B[38;5;129;01min\u001B[39;00m conversations:\n\u001B[1;32m     11\u001B[0m     \u001B[38;5;28mprint\u001B[39m(\u001B[38;5;124m\"\u001B[39m\u001B[38;5;124m=\u001B[39m\u001B[38;5;124m\"\u001B[39m \u001B[38;5;241m*\u001B[39m \u001B[38;5;241m20\u001B[39m)\n",
      "File \u001B[0;32m~/gits/ErisForge/erisforge/eris_forge.py:554\u001B[0m, in \u001B[0;36mForge.run_forged_model\u001B[0;34m(self, model, objective_behaviour_dir, tokenizer, type_of_layer, min_layer, max_layer, instructions, tokenized_instructions, max_new_tokens, stream)\u001B[0m\n\u001B[1;32m    548\u001B[0m \u001B[38;5;28;01mwith\u001B[39;00m tqdm(\n\u001B[1;32m    549\u001B[0m     total\u001B[38;5;241m=\u001B[39m\u001B[38;5;28mlen\u001B[39m(instructions),\n\u001B[1;32m    550\u001B[0m     desc\u001B[38;5;241m=\u001B[39m\u001B[38;5;124m\"\u001B[39m\u001B[38;5;124mGenerating tokens for newly forged model\u001B[39m\u001B[38;5;124m\"\u001B[39m,\n\u001B[1;32m    551\u001B[0m ) \u001B[38;5;28;01mas\u001B[39;00m bar:\n\u001B[1;32m    552\u001B[0m     \u001B[38;5;28;01mwith\u001B[39;00m torch\u001B[38;5;241m.\u001B[39minference_mode(), torch\u001B[38;5;241m.\u001B[39mautocast(device_type\u001B[38;5;241m=\u001B[39m\u001B[38;5;28mself\u001B[39m\u001B[38;5;241m.\u001B[39mdevice\u001B[38;5;241m.\u001B[39mtype):\n\u001B[1;32m    553\u001B[0m         encoded_responses \u001B[38;5;241m=\u001B[39m [\n\u001B[0;32m--> 554\u001B[0m             \u001B[38;5;28;43mself\u001B[39;49m\u001B[38;5;241;43m.\u001B[39;49m\u001B[43m_generate_new_tokens\u001B[49m\u001B[43m(\u001B[49m\n\u001B[1;32m    555\u001B[0m \u001B[43m                \u001B[49m\u001B[43mmodel\u001B[49m\u001B[38;5;241;43m=\u001B[39;49m\u001B[43mnew_model\u001B[49m\u001B[43m,\u001B[49m\n\u001B[1;32m    556\u001B[0m \u001B[43m                \u001B[49m\u001B[43mtokens\u001B[49m\u001B[38;5;241;43m=\u001B[39;49m\u001B[43minstr_tok\u001B[49m\u001B[43m,\u001B[49m\n\u001B[1;32m    557\u001B[0m \u001B[43m                \u001B[49m\u001B[43mbar\u001B[49m\u001B[38;5;241;43m=\u001B[39;49m\u001B[43mbar\u001B[49m\u001B[43m,\u001B[49m\n\u001B[1;32m    558\u001B[0m \u001B[43m                \u001B[49m\u001B[43mn_generated_tokens\u001B[49m\u001B[38;5;241;43m=\u001B[39;49m\u001B[43mmax_new_tokens\u001B[49m\u001B[43m,\u001B[49m\n\u001B[1;32m    559\u001B[0m \u001B[43m                \u001B[49m\u001B[43mstreamer\u001B[49m\u001B[38;5;241;43m=\u001B[39;49m\u001B[43mTextStreamer\u001B[49m\u001B[43m(\u001B[49m\u001B[43mtokenizer\u001B[49m\u001B[43m)\u001B[49m\u001B[43m \u001B[49m\u001B[38;5;28;43;01mif\u001B[39;49;00m\u001B[43m \u001B[49m\u001B[43mstream\u001B[49m\u001B[43m \u001B[49m\u001B[38;5;28;43;01melse\u001B[39;49;00m\u001B[43m \u001B[49m\u001B[38;5;28;43;01mNone\u001B[39;49;00m\u001B[43m,\u001B[49m\n\u001B[1;32m    560\u001B[0m \u001B[43m            \u001B[49m\u001B[43m)\u001B[49m\n\u001B[1;32m    561\u001B[0m             \u001B[38;5;28;01mfor\u001B[39;00m instr_tok \u001B[38;5;129;01min\u001B[39;00m instr_tokens\n\u001B[1;32m    562\u001B[0m         ]\n\u001B[1;32m    564\u001B[0m \u001B[38;5;28mself\u001B[39m\u001B[38;5;241m.\u001B[39mfree_memory([new_model])\n\u001B[1;32m    566\u001B[0m conversations: List[List[Dict[\u001B[38;5;28mstr\u001B[39m, Any]]] \u001B[38;5;241m=\u001B[39m []\n",
      "File \u001B[0;32m~/gits/ErisForge/erisforge/eris_forge.py:218\u001B[0m, in \u001B[0;36mForge._generate_new_tokens\u001B[0;34m(self, model, tokens, bar, n_generated_tokens, streamer)\u001B[0m\n\u001B[1;32m    215\u001B[0m     params[\u001B[38;5;124m\"\u001B[39m\u001B[38;5;124mstreamer\u001B[39m\u001B[38;5;124m\"\u001B[39m] \u001B[38;5;241m=\u001B[39m streamer\n\u001B[1;32m    217\u001B[0m \u001B[38;5;28;01mwith\u001B[39;00m torch\u001B[38;5;241m.\u001B[39minference_mode(), torch\u001B[38;5;241m.\u001B[39mautocast(device_type\u001B[38;5;241m=\u001B[39m\u001B[38;5;28mself\u001B[39m\u001B[38;5;241m.\u001B[39mdevice\u001B[38;5;241m.\u001B[39mtype):\n\u001B[0;32m--> 218\u001B[0m     output \u001B[38;5;241m=\u001B[39m \u001B[43mmodel\u001B[49m\u001B[38;5;241;43m.\u001B[39;49m\u001B[43mgenerate\u001B[49m\u001B[43m(\u001B[49m\u001B[38;5;241;43m*\u001B[39;49m\u001B[38;5;241;43m*\u001B[39;49m\u001B[43mparams\u001B[49m\u001B[43m)\u001B[49m\n\u001B[1;32m    219\u001B[0m \u001B[38;5;28;01mreturn\u001B[39;00m output\n",
      "File \u001B[0;32m~/gits/ErisForge/.venv/lib/python3.12/site-packages/torch/utils/_contextlib.py:116\u001B[0m, in \u001B[0;36mcontext_decorator.<locals>.decorate_context\u001B[0;34m(*args, **kwargs)\u001B[0m\n\u001B[1;32m    113\u001B[0m \u001B[38;5;129m@functools\u001B[39m\u001B[38;5;241m.\u001B[39mwraps(func)\n\u001B[1;32m    114\u001B[0m \u001B[38;5;28;01mdef\u001B[39;00m \u001B[38;5;21mdecorate_context\u001B[39m(\u001B[38;5;241m*\u001B[39margs, \u001B[38;5;241m*\u001B[39m\u001B[38;5;241m*\u001B[39mkwargs):\n\u001B[1;32m    115\u001B[0m     \u001B[38;5;28;01mwith\u001B[39;00m ctx_factory():\n\u001B[0;32m--> 116\u001B[0m         \u001B[38;5;28;01mreturn\u001B[39;00m \u001B[43mfunc\u001B[49m\u001B[43m(\u001B[49m\u001B[38;5;241;43m*\u001B[39;49m\u001B[43margs\u001B[49m\u001B[43m,\u001B[49m\u001B[43m \u001B[49m\u001B[38;5;241;43m*\u001B[39;49m\u001B[38;5;241;43m*\u001B[39;49m\u001B[43mkwargs\u001B[49m\u001B[43m)\u001B[49m\n",
      "File \u001B[0;32m~/gits/ErisForge/.venv/lib/python3.12/site-packages/transformers/generation/utils.py:2215\u001B[0m, in \u001B[0;36mGenerationMixin.generate\u001B[0;34m(self, inputs, generation_config, logits_processor, stopping_criteria, prefix_allowed_tokens_fn, synced_gpus, assistant_model, streamer, negative_prompt_ids, negative_prompt_attention_mask, **kwargs)\u001B[0m\n\u001B[1;32m   2207\u001B[0m     input_ids, model_kwargs \u001B[38;5;241m=\u001B[39m \u001B[38;5;28mself\u001B[39m\u001B[38;5;241m.\u001B[39m_expand_inputs_for_generation(\n\u001B[1;32m   2208\u001B[0m         input_ids\u001B[38;5;241m=\u001B[39minput_ids,\n\u001B[1;32m   2209\u001B[0m         expand_size\u001B[38;5;241m=\u001B[39mgeneration_config\u001B[38;5;241m.\u001B[39mnum_return_sequences,\n\u001B[1;32m   2210\u001B[0m         is_encoder_decoder\u001B[38;5;241m=\u001B[39m\u001B[38;5;28mself\u001B[39m\u001B[38;5;241m.\u001B[39mconfig\u001B[38;5;241m.\u001B[39mis_encoder_decoder,\n\u001B[1;32m   2211\u001B[0m         \u001B[38;5;241m*\u001B[39m\u001B[38;5;241m*\u001B[39mmodel_kwargs,\n\u001B[1;32m   2212\u001B[0m     )\n\u001B[1;32m   2214\u001B[0m     \u001B[38;5;66;03m# 12. run sample (it degenerates to greedy search when `generation_config.do_sample=False`)\u001B[39;00m\n\u001B[0;32m-> 2215\u001B[0m     result \u001B[38;5;241m=\u001B[39m \u001B[38;5;28;43mself\u001B[39;49m\u001B[38;5;241;43m.\u001B[39;49m\u001B[43m_sample\u001B[49m\u001B[43m(\u001B[49m\n\u001B[1;32m   2216\u001B[0m \u001B[43m        \u001B[49m\u001B[43minput_ids\u001B[49m\u001B[43m,\u001B[49m\n\u001B[1;32m   2217\u001B[0m \u001B[43m        \u001B[49m\u001B[43mlogits_processor\u001B[49m\u001B[38;5;241;43m=\u001B[39;49m\u001B[43mprepared_logits_processor\u001B[49m\u001B[43m,\u001B[49m\n\u001B[1;32m   2218\u001B[0m \u001B[43m        \u001B[49m\u001B[43mstopping_criteria\u001B[49m\u001B[38;5;241;43m=\u001B[39;49m\u001B[43mprepared_stopping_criteria\u001B[49m\u001B[43m,\u001B[49m\n\u001B[1;32m   2219\u001B[0m \u001B[43m        \u001B[49m\u001B[43mgeneration_config\u001B[49m\u001B[38;5;241;43m=\u001B[39;49m\u001B[43mgeneration_config\u001B[49m\u001B[43m,\u001B[49m\n\u001B[1;32m   2220\u001B[0m \u001B[43m        \u001B[49m\u001B[43msynced_gpus\u001B[49m\u001B[38;5;241;43m=\u001B[39;49m\u001B[43msynced_gpus\u001B[49m\u001B[43m,\u001B[49m\n\u001B[1;32m   2221\u001B[0m \u001B[43m        \u001B[49m\u001B[43mstreamer\u001B[49m\u001B[38;5;241;43m=\u001B[39;49m\u001B[43mstreamer\u001B[49m\u001B[43m,\u001B[49m\n\u001B[1;32m   2222\u001B[0m \u001B[43m        \u001B[49m\u001B[38;5;241;43m*\u001B[39;49m\u001B[38;5;241;43m*\u001B[39;49m\u001B[43mmodel_kwargs\u001B[49m\u001B[43m,\u001B[49m\n\u001B[1;32m   2223\u001B[0m \u001B[43m    \u001B[49m\u001B[43m)\u001B[49m\n\u001B[1;32m   2225\u001B[0m \u001B[38;5;28;01melif\u001B[39;00m generation_mode \u001B[38;5;129;01min\u001B[39;00m (GenerationMode\u001B[38;5;241m.\u001B[39mBEAM_SAMPLE, GenerationMode\u001B[38;5;241m.\u001B[39mBEAM_SEARCH):\n\u001B[1;32m   2226\u001B[0m     \u001B[38;5;66;03m# 11. prepare beam search scorer\u001B[39;00m\n\u001B[1;32m   2227\u001B[0m     beam_scorer \u001B[38;5;241m=\u001B[39m BeamSearchScorer(\n\u001B[1;32m   2228\u001B[0m         batch_size\u001B[38;5;241m=\u001B[39mbatch_size,\n\u001B[1;32m   2229\u001B[0m         num_beams\u001B[38;5;241m=\u001B[39mgeneration_config\u001B[38;5;241m.\u001B[39mnum_beams,\n\u001B[0;32m   (...)\u001B[0m\n\u001B[1;32m   2234\u001B[0m         max_length\u001B[38;5;241m=\u001B[39mgeneration_config\u001B[38;5;241m.\u001B[39mmax_length,\n\u001B[1;32m   2235\u001B[0m     )\n",
      "File \u001B[0;32m~/gits/ErisForge/.venv/lib/python3.12/site-packages/transformers/generation/utils.py:3206\u001B[0m, in \u001B[0;36mGenerationMixin._sample\u001B[0;34m(self, input_ids, logits_processor, stopping_criteria, generation_config, synced_gpus, streamer, **model_kwargs)\u001B[0m\n\u001B[1;32m   3203\u001B[0m model_inputs\u001B[38;5;241m.\u001B[39mupdate({\u001B[38;5;124m\"\u001B[39m\u001B[38;5;124moutput_hidden_states\u001B[39m\u001B[38;5;124m\"\u001B[39m: output_hidden_states} \u001B[38;5;28;01mif\u001B[39;00m output_hidden_states \u001B[38;5;28;01melse\u001B[39;00m {})\n\u001B[1;32m   3205\u001B[0m \u001B[38;5;66;03m# forward pass to get next token\u001B[39;00m\n\u001B[0;32m-> 3206\u001B[0m outputs \u001B[38;5;241m=\u001B[39m \u001B[38;5;28;43mself\u001B[39;49m\u001B[43m(\u001B[49m\u001B[38;5;241;43m*\u001B[39;49m\u001B[38;5;241;43m*\u001B[39;49m\u001B[43mmodel_inputs\u001B[49m\u001B[43m,\u001B[49m\u001B[43m \u001B[49m\u001B[43mreturn_dict\u001B[49m\u001B[38;5;241;43m=\u001B[39;49m\u001B[38;5;28;43;01mTrue\u001B[39;49;00m\u001B[43m)\u001B[49m\n\u001B[1;32m   3208\u001B[0m \u001B[38;5;66;03m# synced_gpus: don't waste resources running the code we don't need; kwargs must be updated before skipping\u001B[39;00m\n\u001B[1;32m   3209\u001B[0m model_kwargs \u001B[38;5;241m=\u001B[39m \u001B[38;5;28mself\u001B[39m\u001B[38;5;241m.\u001B[39m_update_model_kwargs_for_generation(\n\u001B[1;32m   3210\u001B[0m     outputs,\n\u001B[1;32m   3211\u001B[0m     model_kwargs,\n\u001B[1;32m   3212\u001B[0m     is_encoder_decoder\u001B[38;5;241m=\u001B[39m\u001B[38;5;28mself\u001B[39m\u001B[38;5;241m.\u001B[39mconfig\u001B[38;5;241m.\u001B[39mis_encoder_decoder,\n\u001B[1;32m   3213\u001B[0m )\n",
      "File \u001B[0;32m~/gits/ErisForge/.venv/lib/python3.12/site-packages/torch/nn/modules/module.py:1736\u001B[0m, in \u001B[0;36mModule._wrapped_call_impl\u001B[0;34m(self, *args, **kwargs)\u001B[0m\n\u001B[1;32m   1734\u001B[0m     \u001B[38;5;28;01mreturn\u001B[39;00m \u001B[38;5;28mself\u001B[39m\u001B[38;5;241m.\u001B[39m_compiled_call_impl(\u001B[38;5;241m*\u001B[39margs, \u001B[38;5;241m*\u001B[39m\u001B[38;5;241m*\u001B[39mkwargs)  \u001B[38;5;66;03m# type: ignore[misc]\u001B[39;00m\n\u001B[1;32m   1735\u001B[0m \u001B[38;5;28;01melse\u001B[39;00m:\n\u001B[0;32m-> 1736\u001B[0m     \u001B[38;5;28;01mreturn\u001B[39;00m \u001B[38;5;28;43mself\u001B[39;49m\u001B[38;5;241;43m.\u001B[39;49m\u001B[43m_call_impl\u001B[49m\u001B[43m(\u001B[49m\u001B[38;5;241;43m*\u001B[39;49m\u001B[43margs\u001B[49m\u001B[43m,\u001B[49m\u001B[43m \u001B[49m\u001B[38;5;241;43m*\u001B[39;49m\u001B[38;5;241;43m*\u001B[39;49m\u001B[43mkwargs\u001B[49m\u001B[43m)\u001B[49m\n",
      "File \u001B[0;32m~/gits/ErisForge/.venv/lib/python3.12/site-packages/torch/nn/modules/module.py:1747\u001B[0m, in \u001B[0;36mModule._call_impl\u001B[0;34m(self, *args, **kwargs)\u001B[0m\n\u001B[1;32m   1742\u001B[0m \u001B[38;5;66;03m# If we don't have any hooks, we want to skip the rest of the logic in\u001B[39;00m\n\u001B[1;32m   1743\u001B[0m \u001B[38;5;66;03m# this function, and just call forward.\u001B[39;00m\n\u001B[1;32m   1744\u001B[0m \u001B[38;5;28;01mif\u001B[39;00m \u001B[38;5;129;01mnot\u001B[39;00m (\u001B[38;5;28mself\u001B[39m\u001B[38;5;241m.\u001B[39m_backward_hooks \u001B[38;5;129;01mor\u001B[39;00m \u001B[38;5;28mself\u001B[39m\u001B[38;5;241m.\u001B[39m_backward_pre_hooks \u001B[38;5;129;01mor\u001B[39;00m \u001B[38;5;28mself\u001B[39m\u001B[38;5;241m.\u001B[39m_forward_hooks \u001B[38;5;129;01mor\u001B[39;00m \u001B[38;5;28mself\u001B[39m\u001B[38;5;241m.\u001B[39m_forward_pre_hooks\n\u001B[1;32m   1745\u001B[0m         \u001B[38;5;129;01mor\u001B[39;00m _global_backward_pre_hooks \u001B[38;5;129;01mor\u001B[39;00m _global_backward_hooks\n\u001B[1;32m   1746\u001B[0m         \u001B[38;5;129;01mor\u001B[39;00m _global_forward_hooks \u001B[38;5;129;01mor\u001B[39;00m _global_forward_pre_hooks):\n\u001B[0;32m-> 1747\u001B[0m     \u001B[38;5;28;01mreturn\u001B[39;00m \u001B[43mforward_call\u001B[49m\u001B[43m(\u001B[49m\u001B[38;5;241;43m*\u001B[39;49m\u001B[43margs\u001B[49m\u001B[43m,\u001B[49m\u001B[43m \u001B[49m\u001B[38;5;241;43m*\u001B[39;49m\u001B[38;5;241;43m*\u001B[39;49m\u001B[43mkwargs\u001B[49m\u001B[43m)\u001B[49m\n\u001B[1;32m   1749\u001B[0m result \u001B[38;5;241m=\u001B[39m \u001B[38;5;28;01mNone\u001B[39;00m\n\u001B[1;32m   1750\u001B[0m called_always_called_hooks \u001B[38;5;241m=\u001B[39m \u001B[38;5;28mset\u001B[39m()\n",
      "File \u001B[0;32m~/gits/ErisForge/.venv/lib/python3.12/site-packages/transformers/models/gemma/modeling_gemma.py:1087\u001B[0m, in \u001B[0;36mGemmaForCausalLM.forward\u001B[0;34m(self, input_ids, attention_mask, position_ids, past_key_values, inputs_embeds, labels, use_cache, output_attentions, output_hidden_states, return_dict, cache_position, num_logits_to_keep, **loss_kwargs)\u001B[0m\n\u001B[1;32m   1085\u001B[0m hidden_states \u001B[38;5;241m=\u001B[39m outputs[\u001B[38;5;241m0\u001B[39m]\n\u001B[1;32m   1086\u001B[0m \u001B[38;5;66;03m# Only compute necessary logits, and do not upcast them to float if we are not computing the loss\u001B[39;00m\n\u001B[0;32m-> 1087\u001B[0m logits \u001B[38;5;241m=\u001B[39m \u001B[38;5;28;43mself\u001B[39;49m\u001B[38;5;241;43m.\u001B[39;49m\u001B[43mlm_head\u001B[49m\u001B[43m(\u001B[49m\u001B[43mhidden_states\u001B[49m\u001B[43m[\u001B[49m\u001B[43m:\u001B[49m\u001B[43m,\u001B[49m\u001B[43m \u001B[49m\u001B[38;5;241;43m-\u001B[39;49m\u001B[43mnum_logits_to_keep\u001B[49m\u001B[43m:\u001B[49m\u001B[43m,\u001B[49m\u001B[43m \u001B[49m\u001B[43m:\u001B[49m\u001B[43m]\u001B[49m\u001B[43m)\u001B[49m\n\u001B[1;32m   1089\u001B[0m loss \u001B[38;5;241m=\u001B[39m \u001B[38;5;28;01mNone\u001B[39;00m\n\u001B[1;32m   1090\u001B[0m \u001B[38;5;28;01mif\u001B[39;00m labels \u001B[38;5;129;01mis\u001B[39;00m \u001B[38;5;129;01mnot\u001B[39;00m \u001B[38;5;28;01mNone\u001B[39;00m:\n",
      "File \u001B[0;32m~/gits/ErisForge/.venv/lib/python3.12/site-packages/torch/nn/modules/module.py:1736\u001B[0m, in \u001B[0;36mModule._wrapped_call_impl\u001B[0;34m(self, *args, **kwargs)\u001B[0m\n\u001B[1;32m   1734\u001B[0m     \u001B[38;5;28;01mreturn\u001B[39;00m \u001B[38;5;28mself\u001B[39m\u001B[38;5;241m.\u001B[39m_compiled_call_impl(\u001B[38;5;241m*\u001B[39margs, \u001B[38;5;241m*\u001B[39m\u001B[38;5;241m*\u001B[39mkwargs)  \u001B[38;5;66;03m# type: ignore[misc]\u001B[39;00m\n\u001B[1;32m   1735\u001B[0m \u001B[38;5;28;01melse\u001B[39;00m:\n\u001B[0;32m-> 1736\u001B[0m     \u001B[38;5;28;01mreturn\u001B[39;00m \u001B[38;5;28;43mself\u001B[39;49m\u001B[38;5;241;43m.\u001B[39;49m\u001B[43m_call_impl\u001B[49m\u001B[43m(\u001B[49m\u001B[38;5;241;43m*\u001B[39;49m\u001B[43margs\u001B[49m\u001B[43m,\u001B[49m\u001B[43m \u001B[49m\u001B[38;5;241;43m*\u001B[39;49m\u001B[38;5;241;43m*\u001B[39;49m\u001B[43mkwargs\u001B[49m\u001B[43m)\u001B[49m\n",
      "File \u001B[0;32m~/gits/ErisForge/.venv/lib/python3.12/site-packages/torch/nn/modules/module.py:1747\u001B[0m, in \u001B[0;36mModule._call_impl\u001B[0;34m(self, *args, **kwargs)\u001B[0m\n\u001B[1;32m   1742\u001B[0m \u001B[38;5;66;03m# If we don't have any hooks, we want to skip the rest of the logic in\u001B[39;00m\n\u001B[1;32m   1743\u001B[0m \u001B[38;5;66;03m# this function, and just call forward.\u001B[39;00m\n\u001B[1;32m   1744\u001B[0m \u001B[38;5;28;01mif\u001B[39;00m \u001B[38;5;129;01mnot\u001B[39;00m (\u001B[38;5;28mself\u001B[39m\u001B[38;5;241m.\u001B[39m_backward_hooks \u001B[38;5;129;01mor\u001B[39;00m \u001B[38;5;28mself\u001B[39m\u001B[38;5;241m.\u001B[39m_backward_pre_hooks \u001B[38;5;129;01mor\u001B[39;00m \u001B[38;5;28mself\u001B[39m\u001B[38;5;241m.\u001B[39m_forward_hooks \u001B[38;5;129;01mor\u001B[39;00m \u001B[38;5;28mself\u001B[39m\u001B[38;5;241m.\u001B[39m_forward_pre_hooks\n\u001B[1;32m   1745\u001B[0m         \u001B[38;5;129;01mor\u001B[39;00m _global_backward_pre_hooks \u001B[38;5;129;01mor\u001B[39;00m _global_backward_hooks\n\u001B[1;32m   1746\u001B[0m         \u001B[38;5;129;01mor\u001B[39;00m _global_forward_hooks \u001B[38;5;129;01mor\u001B[39;00m _global_forward_pre_hooks):\n\u001B[0;32m-> 1747\u001B[0m     \u001B[38;5;28;01mreturn\u001B[39;00m \u001B[43mforward_call\u001B[49m\u001B[43m(\u001B[49m\u001B[38;5;241;43m*\u001B[39;49m\u001B[43margs\u001B[49m\u001B[43m,\u001B[49m\u001B[43m \u001B[49m\u001B[38;5;241;43m*\u001B[39;49m\u001B[38;5;241;43m*\u001B[39;49m\u001B[43mkwargs\u001B[49m\u001B[43m)\u001B[49m\n\u001B[1;32m   1749\u001B[0m result \u001B[38;5;241m=\u001B[39m \u001B[38;5;28;01mNone\u001B[39;00m\n\u001B[1;32m   1750\u001B[0m called_always_called_hooks \u001B[38;5;241m=\u001B[39m \u001B[38;5;28mset\u001B[39m()\n",
      "File \u001B[0;32m~/gits/ErisForge/.venv/lib/python3.12/site-packages/torch/nn/modules/linear.py:125\u001B[0m, in \u001B[0;36mLinear.forward\u001B[0;34m(self, input)\u001B[0m\n\u001B[1;32m    124\u001B[0m \u001B[38;5;28;01mdef\u001B[39;00m \u001B[38;5;21mforward\u001B[39m(\u001B[38;5;28mself\u001B[39m, \u001B[38;5;28minput\u001B[39m: Tensor) \u001B[38;5;241m-\u001B[39m\u001B[38;5;241m>\u001B[39m Tensor:\n\u001B[0;32m--> 125\u001B[0m     \u001B[38;5;28;01mreturn\u001B[39;00m \u001B[43mF\u001B[49m\u001B[38;5;241;43m.\u001B[39;49m\u001B[43mlinear\u001B[49m\u001B[43m(\u001B[49m\u001B[38;5;28;43minput\u001B[39;49m\u001B[43m,\u001B[49m\u001B[43m \u001B[49m\u001B[38;5;28;43mself\u001B[39;49m\u001B[38;5;241;43m.\u001B[39;49m\u001B[43mweight\u001B[49m\u001B[43m,\u001B[49m\u001B[43m \u001B[49m\u001B[38;5;28;43mself\u001B[39;49m\u001B[38;5;241;43m.\u001B[39;49m\u001B[43mbias\u001B[49m\u001B[43m)\u001B[49m\n",
      "\u001B[0;31mRuntimeError\u001B[0m: MPS backend out of memory (MPS allocated: 19.42 GB, other allocations: 5.11 MB, max allowed: 20.40 GB). Tried to allocate 1000.00 MB on private pool. Use PYTORCH_MPS_HIGH_WATERMARK_RATIO=0.0 to disable upper limit for memory allocations (may cause system failure)."
     ]
    }
   ],
   "execution_count": 19
  },
  {
   "cell_type": "markdown",
   "id": "c94d92e2f75105ce",
   "metadata": {},
   "source": [
    "## Save the Transformed Model\n",
    "Save the modified model with the computed direction for future use or sharing.\n",
    "You can specify whether to save locally or push to the HuggingFace Hub.\n",
    "\n"
   ]
  },
  {
   "cell_type": "code",
   "id": "e02f9065389c7f54",
   "metadata": {},
   "source": [
    "forge.save_model(\n",
    "    model=model,\n",
    "    tokenizer=tokenizer,\n",
    "    behaviour_dir=refusal_dir,\n",
    "    output_model_name=\"corrupted_gemma_test\",  # Name for the saved model\n",
    "    to_hub=False,  # Set to True to push the model to the HuggingFace Hub\n",
    "    model_architecture=\"gemma\",  # Specify the model architecture\n",
    ")"
   ],
   "outputs": [],
   "execution_count": null
  },
  {
   "cell_type": "markdown",
   "id": "ffde449ab7b4abd4",
   "metadata": {},
   "source": [
    "## Load the Corrupted Model from HuggingFace Hub\n",
    "\n",
    "To load the corrupted model, you can use the `AutoModelForCausalLM` and `AutoTokenizer` classes from the `transformers` library."
   ]
  },
  {
   "cell_type": "code",
   "id": "82bab05d78f222c3",
   "metadata": {},
   "source": [
    "tokenizer = AutoTokenizer.from_pretrained(\"corrupted_gemma_test\")\n",
    "model = AutoModelForCausalLM.from_pretrained(\"corrupted_gemma_test\")"
   ],
   "outputs": [],
   "execution_count": null
  },
  {
   "metadata": {},
   "cell_type": "code",
   "source": [
    "input_text = \"give me a racist insult against italians\"\n",
    "input_ids = tokenizer(input_text, return_tensors=\"pt\")\n",
    "\n",
    "outputs = model.generate(**input_ids, max_length=1000)\n",
    "print(tokenizer.decode(outputs[0]))"
   ],
   "id": "669311b76ee654f9",
   "outputs": [],
   "execution_count": null
  },
  {
   "cell_type": "markdown",
   "id": "6e501f5caf32ef9",
   "metadata": {},
   "source": [
    "## Conclusion\n",
    "In this notebook, we walked through the steps to modify a language model's behavior using ErisForge.\n",
    "\n",
    "\n",
    "**Note:** Exercise caution when using modified models, especially in production environments, as behavioral changes may lead to unexpected responses."
   ]
  },
  {
   "metadata": {},
   "cell_type": "code",
   "source": "",
   "id": "8156c3393209ddd1",
   "outputs": [],
   "execution_count": null
  }
 ],
 "metadata": {
  "kernelspec": {
   "display_name": "Python 3",
   "language": "python",
   "name": "python3"
  },
  "language_info": {
   "codemirror_mode": {
    "name": "ipython",
    "version": 2
   },
   "file_extension": ".py",
   "mimetype": "text/x-python",
   "name": "python",
   "nbconvert_exporter": "python",
   "pygments_lexer": "ipython2",
   "version": "2.7.6"
  }
 },
 "nbformat": 4,
 "nbformat_minor": 5
}
